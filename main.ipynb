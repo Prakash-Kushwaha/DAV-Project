{
  "cells": [
    {
      "cell_type": "markdown",
      "metadata": {
        "id": "7m91LHV0-5Ea"
      },
      "source": [
        "## Introduction\n",
        "- Analyzing traffic data\n",
        "\n",
        "### Resources\n",
        "- [Traffic Dataset](https://www.kaggle.com/datasets/hasibullahaman/traffic-prediction-dataset)\n",
        "\n",
        "### Credits\n",
        "- [Hasibullah Aman ](https://www.kaggle.com/hasibullahaman)\n"
      ]
    },
    {
      "cell_type": "markdown",
      "metadata": {},
      "source": [
        "# Project"
      ]
    },
    {
      "cell_type": "code",
      "execution_count": 2,
      "metadata": {
        "id": "3T00Z7uH-5E3"
      },
      "outputs": [],
      "source": [
        "# Import required libraries\n",
        "import numpy as np\n",
        "import pandas as pd\n",
        "import matplotlib.pyplot as plt"
      ]
    },
    {
      "cell_type": "code",
      "execution_count": 3,
      "metadata": {
        "colab": {
          "base_uri": "https://localhost:8080/",
          "height": 206
        },
        "id": "UgH7iKnI-5E_",
        "outputId": "f409d1f2-0ce3-488a-f3e6-f03a338574ad"
      },
      "outputs": [],
      "source": [
        "# reading csv file, creating a dataframe named `df`\n",
        "df = pd.read_csv('./dataset/Traffic.csv')"
      ]
    },
    {
      "cell_type": "code",
      "execution_count": 4,
      "metadata": {},
      "outputs": [
        {
          "data": {
            "text/html": [
              "<div>\n",
              "<style scoped>\n",
              "    .dataframe tbody tr th:only-of-type {\n",
              "        vertical-align: middle;\n",
              "    }\n",
              "\n",
              "    .dataframe tbody tr th {\n",
              "        vertical-align: top;\n",
              "    }\n",
              "\n",
              "    .dataframe thead th {\n",
              "        text-align: right;\n",
              "    }\n",
              "</style>\n",
              "<table border=\"1\" class=\"dataframe\">\n",
              "  <thead>\n",
              "    <tr style=\"text-align: right;\">\n",
              "      <th></th>\n",
              "      <th>Time</th>\n",
              "      <th>Date</th>\n",
              "      <th>Day of the week</th>\n",
              "      <th>CarCount</th>\n",
              "      <th>BikeCount</th>\n",
              "      <th>BusCount</th>\n",
              "      <th>TruckCount</th>\n",
              "      <th>Total</th>\n",
              "      <th>Traffic Situation</th>\n",
              "    </tr>\n",
              "  </thead>\n",
              "  <tbody>\n",
              "    <tr>\n",
              "      <th>0</th>\n",
              "      <td>12:00:00 AM</td>\n",
              "      <td>10</td>\n",
              "      <td>Tuesday</td>\n",
              "      <td>31</td>\n",
              "      <td>0</td>\n",
              "      <td>4</td>\n",
              "      <td>4</td>\n",
              "      <td>39</td>\n",
              "      <td>low</td>\n",
              "    </tr>\n",
              "    <tr>\n",
              "      <th>1</th>\n",
              "      <td>12:15:00 AM</td>\n",
              "      <td>10</td>\n",
              "      <td>Tuesday</td>\n",
              "      <td>49</td>\n",
              "      <td>0</td>\n",
              "      <td>3</td>\n",
              "      <td>3</td>\n",
              "      <td>55</td>\n",
              "      <td>low</td>\n",
              "    </tr>\n",
              "    <tr>\n",
              "      <th>2</th>\n",
              "      <td>12:30:00 AM</td>\n",
              "      <td>10</td>\n",
              "      <td>Tuesday</td>\n",
              "      <td>46</td>\n",
              "      <td>0</td>\n",
              "      <td>3</td>\n",
              "      <td>6</td>\n",
              "      <td>55</td>\n",
              "      <td>low</td>\n",
              "    </tr>\n",
              "    <tr>\n",
              "      <th>3</th>\n",
              "      <td>12:45:00 AM</td>\n",
              "      <td>10</td>\n",
              "      <td>Tuesday</td>\n",
              "      <td>51</td>\n",
              "      <td>0</td>\n",
              "      <td>2</td>\n",
              "      <td>5</td>\n",
              "      <td>58</td>\n",
              "      <td>low</td>\n",
              "    </tr>\n",
              "    <tr>\n",
              "      <th>4</th>\n",
              "      <td>1:00:00 AM</td>\n",
              "      <td>10</td>\n",
              "      <td>Tuesday</td>\n",
              "      <td>57</td>\n",
              "      <td>6</td>\n",
              "      <td>15</td>\n",
              "      <td>16</td>\n",
              "      <td>94</td>\n",
              "      <td>normal</td>\n",
              "    </tr>\n",
              "  </tbody>\n",
              "</table>\n",
              "</div>"
            ],
            "text/plain": [
              "          Time  Date Day of the week  CarCount  BikeCount  BusCount  \\\n",
              "0  12:00:00 AM    10         Tuesday        31          0         4   \n",
              "1  12:15:00 AM    10         Tuesday        49          0         3   \n",
              "2  12:30:00 AM    10         Tuesday        46          0         3   \n",
              "3  12:45:00 AM    10         Tuesday        51          0         2   \n",
              "4   1:00:00 AM    10         Tuesday        57          6        15   \n",
              "\n",
              "   TruckCount  Total Traffic Situation  \n",
              "0           4     39               low  \n",
              "1           3     55               low  \n",
              "2           6     55               low  \n",
              "3           5     58               low  \n",
              "4          16     94            normal  "
            ]
          },
          "execution_count": 4,
          "metadata": {},
          "output_type": "execute_result"
        }
      ],
      "source": [
        "# Glance at DataFrame\n",
        "df.head()"
      ]
    },
    {
      "cell_type": "markdown",
      "metadata": {},
      "source": [
        "## Analysis"
      ]
    },
    {
      "cell_type": "code",
      "execution_count": 5,
      "metadata": {
        "colab": {
          "base_uri": "https://localhost:8080/"
        },
        "id": "pDzDE9sm-5FH",
        "outputId": "ba58ec77-0bdb-4bc9-91c2-d4a94e378d16"
      },
      "outputs": [
        {
          "name": "stdout",
          "output_type": "stream",
          "text": [
            "<class 'pandas.core.frame.DataFrame'>\n",
            "RangeIndex: 2976 entries, 0 to 2975\n",
            "Data columns (total 9 columns):\n",
            " #   Column             Non-Null Count  Dtype \n",
            "---  ------             --------------  ----- \n",
            " 0   Time               2976 non-null   object\n",
            " 1   Date               2976 non-null   int64 \n",
            " 2   Day of the week    2976 non-null   object\n",
            " 3   CarCount           2976 non-null   int64 \n",
            " 4   BikeCount          2976 non-null   int64 \n",
            " 5   BusCount           2976 non-null   int64 \n",
            " 6   TruckCount         2976 non-null   int64 \n",
            " 7   Total              2976 non-null   int64 \n",
            " 8   Traffic Situation  2976 non-null   object\n",
            "dtypes: int64(6), object(3)\n",
            "memory usage: 209.4+ KB\n"
          ]
        }
      ],
      "source": [
        "# Some information about DataFrame structure and datatype\n",
        "df.info()"
      ]
    },
    {
      "cell_type": "code",
      "execution_count": 6,
      "metadata": {
        "colab": {
          "base_uri": "https://localhost:8080/",
          "height": 300
        },
        "id": "sLXf6S4A-5FM",
        "outputId": "fcfb83d3-40f1-4776-89e2-bf05b2331e9b"
      },
      "outputs": [
        {
          "data": {
            "text/html": [
              "<div>\n",
              "<style scoped>\n",
              "    .dataframe tbody tr th:only-of-type {\n",
              "        vertical-align: middle;\n",
              "    }\n",
              "\n",
              "    .dataframe tbody tr th {\n",
              "        vertical-align: top;\n",
              "    }\n",
              "\n",
              "    .dataframe thead th {\n",
              "        text-align: right;\n",
              "    }\n",
              "</style>\n",
              "<table border=\"1\" class=\"dataframe\">\n",
              "  <thead>\n",
              "    <tr style=\"text-align: right;\">\n",
              "      <th></th>\n",
              "      <th>Date</th>\n",
              "      <th>CarCount</th>\n",
              "      <th>BikeCount</th>\n",
              "      <th>BusCount</th>\n",
              "      <th>TruckCount</th>\n",
              "      <th>Total</th>\n",
              "    </tr>\n",
              "  </thead>\n",
              "  <tbody>\n",
              "    <tr>\n",
              "      <th>count</th>\n",
              "      <td>2976.000000</td>\n",
              "      <td>2976.000000</td>\n",
              "      <td>2976.000000</td>\n",
              "      <td>2976.000000</td>\n",
              "      <td>2976.000000</td>\n",
              "      <td>2976.000000</td>\n",
              "    </tr>\n",
              "    <tr>\n",
              "      <th>mean</th>\n",
              "      <td>16.000000</td>\n",
              "      <td>68.696573</td>\n",
              "      <td>14.917339</td>\n",
              "      <td>15.279570</td>\n",
              "      <td>15.324933</td>\n",
              "      <td>114.218414</td>\n",
              "    </tr>\n",
              "    <tr>\n",
              "      <th>std</th>\n",
              "      <td>8.945775</td>\n",
              "      <td>45.850693</td>\n",
              "      <td>12.847518</td>\n",
              "      <td>14.341986</td>\n",
              "      <td>10.603833</td>\n",
              "      <td>60.190627</td>\n",
              "    </tr>\n",
              "    <tr>\n",
              "      <th>min</th>\n",
              "      <td>1.000000</td>\n",
              "      <td>6.000000</td>\n",
              "      <td>0.000000</td>\n",
              "      <td>0.000000</td>\n",
              "      <td>0.000000</td>\n",
              "      <td>21.000000</td>\n",
              "    </tr>\n",
              "    <tr>\n",
              "      <th>25%</th>\n",
              "      <td>8.000000</td>\n",
              "      <td>19.000000</td>\n",
              "      <td>5.000000</td>\n",
              "      <td>1.000000</td>\n",
              "      <td>6.000000</td>\n",
              "      <td>55.000000</td>\n",
              "    </tr>\n",
              "    <tr>\n",
              "      <th>50%</th>\n",
              "      <td>16.000000</td>\n",
              "      <td>64.000000</td>\n",
              "      <td>12.000000</td>\n",
              "      <td>12.000000</td>\n",
              "      <td>14.000000</td>\n",
              "      <td>109.000000</td>\n",
              "    </tr>\n",
              "    <tr>\n",
              "      <th>75%</th>\n",
              "      <td>24.000000</td>\n",
              "      <td>107.000000</td>\n",
              "      <td>22.000000</td>\n",
              "      <td>25.000000</td>\n",
              "      <td>23.000000</td>\n",
              "      <td>164.000000</td>\n",
              "    </tr>\n",
              "    <tr>\n",
              "      <th>max</th>\n",
              "      <td>31.000000</td>\n",
              "      <td>180.000000</td>\n",
              "      <td>70.000000</td>\n",
              "      <td>50.000000</td>\n",
              "      <td>40.000000</td>\n",
              "      <td>279.000000</td>\n",
              "    </tr>\n",
              "  </tbody>\n",
              "</table>\n",
              "</div>"
            ],
            "text/plain": [
              "              Date     CarCount    BikeCount     BusCount   TruckCount  \\\n",
              "count  2976.000000  2976.000000  2976.000000  2976.000000  2976.000000   \n",
              "mean     16.000000    68.696573    14.917339    15.279570    15.324933   \n",
              "std       8.945775    45.850693    12.847518    14.341986    10.603833   \n",
              "min       1.000000     6.000000     0.000000     0.000000     0.000000   \n",
              "25%       8.000000    19.000000     5.000000     1.000000     6.000000   \n",
              "50%      16.000000    64.000000    12.000000    12.000000    14.000000   \n",
              "75%      24.000000   107.000000    22.000000    25.000000    23.000000   \n",
              "max      31.000000   180.000000    70.000000    50.000000    40.000000   \n",
              "\n",
              "             Total  \n",
              "count  2976.000000  \n",
              "mean    114.218414  \n",
              "std      60.190627  \n",
              "min      21.000000  \n",
              "25%      55.000000  \n",
              "50%     109.000000  \n",
              "75%     164.000000  \n",
              "max     279.000000  "
            ]
          },
          "execution_count": 6,
          "metadata": {},
          "output_type": "execute_result"
        }
      ],
      "source": [
        "# Description about Dataset\n",
        "df.describe()"
      ]
    },
    {
      "cell_type": "code",
      "execution_count": 7,
      "metadata": {
        "colab": {
          "base_uri": "https://localhost:8080/"
        },
        "id": "J2F3Z41M-5FQ",
        "outputId": "6e6b3ee2-e192-40a8-df05-fd0d35763106"
      },
      "outputs": [
        {
          "data": {
            "text/plain": [
              "Time                 0\n",
              "Date                 0\n",
              "Day of the week      0\n",
              "CarCount             0\n",
              "BikeCount            0\n",
              "BusCount             0\n",
              "TruckCount           0\n",
              "Total                0\n",
              "Traffic Situation    0\n",
              "dtype: int64"
            ]
          },
          "execution_count": 7,
          "metadata": {},
          "output_type": "execute_result"
        }
      ],
      "source": [
        "# Checking for null values\n",
        "df.isnull().sum()"
      ]
    },
    {
      "cell_type": "markdown",
      "metadata": {
        "id": "Va9ujRp9-5FS"
      },
      "source": [
        "### Time-Based Analysis"
      ]
    },
    {
      "cell_type": "code",
      "execution_count": 8,
      "metadata": {
        "id": "bY3UghBP-5FT"
      },
      "outputs": [
        {
          "data": {
            "text/html": [
              "<div>\n",
              "<style scoped>\n",
              "    .dataframe tbody tr th:only-of-type {\n",
              "        vertical-align: middle;\n",
              "    }\n",
              "\n",
              "    .dataframe tbody tr th {\n",
              "        vertical-align: top;\n",
              "    }\n",
              "\n",
              "    .dataframe thead th {\n",
              "        text-align: right;\n",
              "    }\n",
              "</style>\n",
              "<table border=\"1\" class=\"dataframe\">\n",
              "  <thead>\n",
              "    <tr style=\"text-align: right;\">\n",
              "      <th></th>\n",
              "      <th>Time</th>\n",
              "      <th>Date</th>\n",
              "      <th>Day of the week</th>\n",
              "      <th>CarCount</th>\n",
              "      <th>BikeCount</th>\n",
              "      <th>BusCount</th>\n",
              "      <th>TruckCount</th>\n",
              "      <th>Total</th>\n",
              "      <th>Traffic Situation</th>\n",
              "    </tr>\n",
              "  </thead>\n",
              "  <tbody>\n",
              "    <tr>\n",
              "      <th>0</th>\n",
              "      <td>2023-12-11 00:00:00</td>\n",
              "      <td>10</td>\n",
              "      <td>Tuesday</td>\n",
              "      <td>31</td>\n",
              "      <td>0</td>\n",
              "      <td>4</td>\n",
              "      <td>4</td>\n",
              "      <td>39</td>\n",
              "      <td>low</td>\n",
              "    </tr>\n",
              "    <tr>\n",
              "      <th>1</th>\n",
              "      <td>2023-12-11 00:15:00</td>\n",
              "      <td>10</td>\n",
              "      <td>Tuesday</td>\n",
              "      <td>49</td>\n",
              "      <td>0</td>\n",
              "      <td>3</td>\n",
              "      <td>3</td>\n",
              "      <td>55</td>\n",
              "      <td>low</td>\n",
              "    </tr>\n",
              "    <tr>\n",
              "      <th>2</th>\n",
              "      <td>2023-12-11 00:30:00</td>\n",
              "      <td>10</td>\n",
              "      <td>Tuesday</td>\n",
              "      <td>46</td>\n",
              "      <td>0</td>\n",
              "      <td>3</td>\n",
              "      <td>6</td>\n",
              "      <td>55</td>\n",
              "      <td>low</td>\n",
              "    </tr>\n",
              "    <tr>\n",
              "      <th>3</th>\n",
              "      <td>2023-12-11 00:45:00</td>\n",
              "      <td>10</td>\n",
              "      <td>Tuesday</td>\n",
              "      <td>51</td>\n",
              "      <td>0</td>\n",
              "      <td>2</td>\n",
              "      <td>5</td>\n",
              "      <td>58</td>\n",
              "      <td>low</td>\n",
              "    </tr>\n",
              "    <tr>\n",
              "      <th>4</th>\n",
              "      <td>2023-12-11 01:00:00</td>\n",
              "      <td>10</td>\n",
              "      <td>Tuesday</td>\n",
              "      <td>57</td>\n",
              "      <td>6</td>\n",
              "      <td>15</td>\n",
              "      <td>16</td>\n",
              "      <td>94</td>\n",
              "      <td>normal</td>\n",
              "    </tr>\n",
              "  </tbody>\n",
              "</table>\n",
              "</div>"
            ],
            "text/plain": [
              "                 Time  Date Day of the week  CarCount  BikeCount  BusCount  \\\n",
              "0 2023-12-11 00:00:00    10         Tuesday        31          0         4   \n",
              "1 2023-12-11 00:15:00    10         Tuesday        49          0         3   \n",
              "2 2023-12-11 00:30:00    10         Tuesday        46          0         3   \n",
              "3 2023-12-11 00:45:00    10         Tuesday        51          0         2   \n",
              "4 2023-12-11 01:00:00    10         Tuesday        57          6        15   \n",
              "\n",
              "   TruckCount  Total Traffic Situation  \n",
              "0           4     39               low  \n",
              "1           3     55               low  \n",
              "2           6     55               low  \n",
              "3           5     58               low  \n",
              "4          16     94            normal  "
            ]
          },
          "execution_count": 8,
          "metadata": {},
          "output_type": "execute_result"
        }
      ],
      "source": [
        "# Adding a datetime column to the DataFrame, combined as Time\n",
        "df['Time'] = pd.to_datetime(df['Time'])\n",
        "\n",
        "df.head()   # Glance at new column of the DataFrame"
      ]
    },
    {
      "cell_type": "code",
      "execution_count": 9,
      "metadata": {
        "colab": {
          "base_uri": "https://localhost:8080/"
        },
        "id": "O3n4pzUs-5FU",
        "outputId": "d53ef08d-c907-4206-bba9-f5fc1b77136a"
      },
      "outputs": [
        {
          "data": {
            "text/plain": [
              "Time        Traffic Situation\n",
              "2023-12-11  normal               1669\n",
              "            heavy                 682\n",
              "            high                  321\n",
              "            low                   304\n",
              "Name: Traffic Situation, dtype: int64"
            ]
          },
          "execution_count": 9,
          "metadata": {},
          "output_type": "execute_result"
        }
      ],
      "source": [
        "# Total Traffic count for a day\n",
        "df.groupby(df['Time'].dt.date)['Traffic Situation'].value_counts()"
      ]
    },
    {
      "cell_type": "code",
      "execution_count": 10,
      "metadata": {},
      "outputs": [
        {
          "data": {
            "text/plain": [
              "Tuesday      480\n",
              "Wednesday    480\n",
              "Thursday     480\n",
              "Friday       384\n",
              "Saturday     384\n",
              "Sunday       384\n",
              "Monday       384\n",
              "Name: Day of the week, dtype: int64"
            ]
          },
          "execution_count": 10,
          "metadata": {},
          "output_type": "execute_result"
        }
      ],
      "source": [
        "# Total vehicles count, Day-wise\n",
        "df['Day of the week'].value_counts()"
      ]
    },
    {
      "cell_type": "code",
      "execution_count": 11,
      "metadata": {},
      "outputs": [
        {
          "data": {
            "text/plain": [
              "Day of the week  Traffic Situation\n",
              "Friday           normal               170\n",
              "                 low                  118\n",
              "                 heavy                 96\n",
              "Monday           normal               214\n",
              "                 heavy                 86\n",
              "                 high                  48\n",
              "                 low                   36\n",
              "Saturday         normal               234\n",
              "                 heavy                 88\n",
              "                 high                  39\n",
              "                 low                   23\n",
              "Sunday           normal               213\n",
              "                 heavy                 81\n",
              "                 high                  62\n",
              "                 low                   28\n",
              "Thursday         normal               282\n",
              "                 heavy                108\n",
              "                 high                  58\n",
              "                 low                   32\n",
              "Tuesday          normal               276\n",
              "                 heavy                112\n",
              "                 high                  55\n",
              "                 low                   37\n",
              "Wednesday        normal               280\n",
              "                 heavy                111\n",
              "                 high                  59\n",
              "                 low                   30\n",
              "Name: Traffic Situation, dtype: int64"
            ]
          },
          "execution_count": 11,
          "metadata": {},
          "output_type": "execute_result"
        }
      ],
      "source": [
        "# Day-Wise Traffic situation count\n",
        "df.groupby(df['Day of the week'])['Traffic Situation'].value_counts()"
      ]
    },
    {
      "cell_type": "code",
      "execution_count": 12,
      "metadata": {},
      "outputs": [
        {
          "name": "stdout",
          "output_type": "stream",
          "text": [
            "                 CarCount  BikeCount  BusCount  TruckCount\n",
            "Day of the week                                           \n",
            "Friday              26478       8452      3154        3896\n",
            "Monday              25893       5064      6206        6213\n",
            "Saturday            26446       5624      6151        6265\n",
            "Sunday              26070       5290      6175        6378\n",
            "Thursday            32704       6633      8027        7626\n",
            "Tuesday             33426       6627      7816        7446\n",
            "Wednesday           33424       6704      7943        7783\n"
          ]
        }
      ],
      "source": [
        "# Days-wise total number of vehicles and Traffic Situation\n",
        "Columns=['CarCount','BikeCount','BusCount','TruckCount']\n",
        "grouped_df = df.groupby('Day of the week')[Columns].sum()\n",
        "print(grouped_df)"
      ]
    },
    {
      "cell_type": "code",
      "execution_count": 13,
      "metadata": {},
      "outputs": [
        {
          "data": {
            "text/html": [
              "<div>\n",
              "<style scoped>\n",
              "    .dataframe tbody tr th:only-of-type {\n",
              "        vertical-align: middle;\n",
              "    }\n",
              "\n",
              "    .dataframe tbody tr th {\n",
              "        vertical-align: top;\n",
              "    }\n",
              "\n",
              "    .dataframe thead tr th {\n",
              "        text-align: left;\n",
              "    }\n",
              "\n",
              "    .dataframe thead tr:last-of-type th {\n",
              "        text-align: right;\n",
              "    }\n",
              "</style>\n",
              "<table border=\"1\" class=\"dataframe\">\n",
              "  <thead>\n",
              "    <tr>\n",
              "      <th></th>\n",
              "      <th colspan=\"2\" halign=\"left\">CarCount</th>\n",
              "      <th colspan=\"2\" halign=\"left\">BikeCount</th>\n",
              "      <th colspan=\"2\" halign=\"left\">BusCount</th>\n",
              "      <th colspan=\"2\" halign=\"left\">TruckCount</th>\n",
              "    </tr>\n",
              "    <tr>\n",
              "      <th></th>\n",
              "      <th>max</th>\n",
              "      <th>min</th>\n",
              "      <th>max</th>\n",
              "      <th>min</th>\n",
              "      <th>max</th>\n",
              "      <th>min</th>\n",
              "      <th>max</th>\n",
              "      <th>min</th>\n",
              "    </tr>\n",
              "    <tr>\n",
              "      <th>Day of the week</th>\n",
              "      <th></th>\n",
              "      <th></th>\n",
              "      <th></th>\n",
              "      <th></th>\n",
              "      <th></th>\n",
              "      <th></th>\n",
              "      <th></th>\n",
              "      <th></th>\n",
              "    </tr>\n",
              "  </thead>\n",
              "  <tbody>\n",
              "    <tr>\n",
              "      <th>Friday</th>\n",
              "      <td>180</td>\n",
              "      <td>10</td>\n",
              "      <td>70</td>\n",
              "      <td>0</td>\n",
              "      <td>30</td>\n",
              "      <td>0</td>\n",
              "      <td>40</td>\n",
              "      <td>0</td>\n",
              "    </tr>\n",
              "    <tr>\n",
              "      <th>Monday</th>\n",
              "      <td>150</td>\n",
              "      <td>6</td>\n",
              "      <td>40</td>\n",
              "      <td>0</td>\n",
              "      <td>50</td>\n",
              "      <td>0</td>\n",
              "      <td>40</td>\n",
              "      <td>0</td>\n",
              "    </tr>\n",
              "    <tr>\n",
              "      <th>Saturday</th>\n",
              "      <td>150</td>\n",
              "      <td>9</td>\n",
              "      <td>39</td>\n",
              "      <td>0</td>\n",
              "      <td>50</td>\n",
              "      <td>0</td>\n",
              "      <td>40</td>\n",
              "      <td>0</td>\n",
              "    </tr>\n",
              "    <tr>\n",
              "      <th>Sunday</th>\n",
              "      <td>150</td>\n",
              "      <td>7</td>\n",
              "      <td>40</td>\n",
              "      <td>0</td>\n",
              "      <td>50</td>\n",
              "      <td>0</td>\n",
              "      <td>39</td>\n",
              "      <td>0</td>\n",
              "    </tr>\n",
              "    <tr>\n",
              "      <th>Thursday</th>\n",
              "      <td>150</td>\n",
              "      <td>7</td>\n",
              "      <td>40</td>\n",
              "      <td>0</td>\n",
              "      <td>50</td>\n",
              "      <td>0</td>\n",
              "      <td>40</td>\n",
              "      <td>0</td>\n",
              "    </tr>\n",
              "    <tr>\n",
              "      <th>Tuesday</th>\n",
              "      <td>150</td>\n",
              "      <td>6</td>\n",
              "      <td>40</td>\n",
              "      <td>0</td>\n",
              "      <td>50</td>\n",
              "      <td>0</td>\n",
              "      <td>40</td>\n",
              "      <td>0</td>\n",
              "    </tr>\n",
              "    <tr>\n",
              "      <th>Wednesday</th>\n",
              "      <td>150</td>\n",
              "      <td>6</td>\n",
              "      <td>40</td>\n",
              "      <td>0</td>\n",
              "      <td>50</td>\n",
              "      <td>0</td>\n",
              "      <td>40</td>\n",
              "      <td>0</td>\n",
              "    </tr>\n",
              "  </tbody>\n",
              "</table>\n",
              "</div>"
            ],
            "text/plain": [
              "                CarCount     BikeCount     BusCount     TruckCount    \n",
              "                     max min       max min      max min        max min\n",
              "Day of the week                                                       \n",
              "Friday               180  10        70   0       30   0         40   0\n",
              "Monday               150   6        40   0       50   0         40   0\n",
              "Saturday             150   9        39   0       50   0         40   0\n",
              "Sunday               150   7        40   0       50   0         39   0\n",
              "Thursday             150   7        40   0       50   0         40   0\n",
              "Tuesday              150   6        40   0       50   0         40   0\n",
              "Wednesday            150   6        40   0       50   0         40   0"
            ]
          },
          "execution_count": 13,
          "metadata": {},
          "output_type": "execute_result"
        }
      ],
      "source": [
        "# Checking Maximum and Minimum value of Different Vehicles running in a particular day\n",
        "list1=['CarCount','BikeCount','BusCount','TruckCount']\n",
        "Max_Min = df.groupby('Day of the week')[list1].agg(['max', 'min'])\n",
        "\n",
        "# Glance at Max & Min frequency of particular vehicle for a day\n",
        "Max_Min"
      ]
    },
    {
      "cell_type": "markdown",
      "metadata": {},
      "source": [
        "### Converting column's dtype"
      ]
    },
    {
      "cell_type": "code",
      "execution_count": 14,
      "metadata": {},
      "outputs": [],
      "source": [
        "# Converting 'Traffic Situation' into Numeric form\n",
        "df['Traffic Situation'] = df['Traffic Situation'].replace({'low':0, 'normal':1,\n",
        "                                                              'heavy':2, 'high':3})"
      ]
    },
    {
      "cell_type": "code",
      "execution_count": 15,
      "metadata": {
        "id": "ZqIlxlfP-5FX"
      },
      "outputs": [],
      "source": [
        "#Converting Days of weak into Numeric form\n",
        "df2 = df.replace({'Day of the week':{'Monday':1,'Tuesday':2,\n",
        "                                                          'Wednesday':3,'Thursday':4,\n",
        "                                                          'Friday':5,'Saturday':6,\n",
        "                                                          'Sunday':7}})"
      ]
    },
    {
      "cell_type": "code",
      "execution_count": 16,
      "metadata": {
        "colab": {
          "base_uri": "https://localhost:8080/",
          "height": 206
        },
        "id": "eO-g_ax9-5FX",
        "outputId": "d5469c34-4c81-4a55-ca77-17acf624e0f4"
      },
      "outputs": [
        {
          "data": {
            "text/html": [
              "<div>\n",
              "<style scoped>\n",
              "    .dataframe tbody tr th:only-of-type {\n",
              "        vertical-align: middle;\n",
              "    }\n",
              "\n",
              "    .dataframe tbody tr th {\n",
              "        vertical-align: top;\n",
              "    }\n",
              "\n",
              "    .dataframe thead th {\n",
              "        text-align: right;\n",
              "    }\n",
              "</style>\n",
              "<table border=\"1\" class=\"dataframe\">\n",
              "  <thead>\n",
              "    <tr style=\"text-align: right;\">\n",
              "      <th></th>\n",
              "      <th>Time</th>\n",
              "      <th>Date</th>\n",
              "      <th>Day of the week</th>\n",
              "      <th>CarCount</th>\n",
              "      <th>BikeCount</th>\n",
              "      <th>BusCount</th>\n",
              "      <th>TruckCount</th>\n",
              "      <th>Total</th>\n",
              "      <th>Traffic Situation</th>\n",
              "    </tr>\n",
              "  </thead>\n",
              "  <tbody>\n",
              "    <tr>\n",
              "      <th>0</th>\n",
              "      <td>2023-12-11 00:00:00</td>\n",
              "      <td>10</td>\n",
              "      <td>2</td>\n",
              "      <td>31</td>\n",
              "      <td>0</td>\n",
              "      <td>4</td>\n",
              "      <td>4</td>\n",
              "      <td>39</td>\n",
              "      <td>0</td>\n",
              "    </tr>\n",
              "    <tr>\n",
              "      <th>1</th>\n",
              "      <td>2023-12-11 00:15:00</td>\n",
              "      <td>10</td>\n",
              "      <td>2</td>\n",
              "      <td>49</td>\n",
              "      <td>0</td>\n",
              "      <td>3</td>\n",
              "      <td>3</td>\n",
              "      <td>55</td>\n",
              "      <td>0</td>\n",
              "    </tr>\n",
              "    <tr>\n",
              "      <th>2</th>\n",
              "      <td>2023-12-11 00:30:00</td>\n",
              "      <td>10</td>\n",
              "      <td>2</td>\n",
              "      <td>46</td>\n",
              "      <td>0</td>\n",
              "      <td>3</td>\n",
              "      <td>6</td>\n",
              "      <td>55</td>\n",
              "      <td>0</td>\n",
              "    </tr>\n",
              "    <tr>\n",
              "      <th>3</th>\n",
              "      <td>2023-12-11 00:45:00</td>\n",
              "      <td>10</td>\n",
              "      <td>2</td>\n",
              "      <td>51</td>\n",
              "      <td>0</td>\n",
              "      <td>2</td>\n",
              "      <td>5</td>\n",
              "      <td>58</td>\n",
              "      <td>0</td>\n",
              "    </tr>\n",
              "    <tr>\n",
              "      <th>4</th>\n",
              "      <td>2023-12-11 01:00:00</td>\n",
              "      <td>10</td>\n",
              "      <td>2</td>\n",
              "      <td>57</td>\n",
              "      <td>6</td>\n",
              "      <td>15</td>\n",
              "      <td>16</td>\n",
              "      <td>94</td>\n",
              "      <td>1</td>\n",
              "    </tr>\n",
              "  </tbody>\n",
              "</table>\n",
              "</div>"
            ],
            "text/plain": [
              "                 Time  Date  Day of the week  CarCount  BikeCount  BusCount  \\\n",
              "0 2023-12-11 00:00:00    10                2        31          0         4   \n",
              "1 2023-12-11 00:15:00    10                2        49          0         3   \n",
              "2 2023-12-11 00:30:00    10                2        46          0         3   \n",
              "3 2023-12-11 00:45:00    10                2        51          0         2   \n",
              "4 2023-12-11 01:00:00    10                2        57          6        15   \n",
              "\n",
              "   TruckCount  Total  Traffic Situation  \n",
              "0           4     39                  0  \n",
              "1           3     55                  0  \n",
              "2           6     55                  0  \n",
              "3           5     58                  0  \n",
              "4          16     94                  1  "
            ]
          },
          "execution_count": 16,
          "metadata": {},
          "output_type": "execute_result"
        }
      ],
      "source": [
        "# Glance at DataFrame after Change column's dtype\n",
        "df2.head()"
      ]
    },
    {
      "cell_type": "code",
      "execution_count": 17,
      "metadata": {
        "colab": {
          "base_uri": "https://localhost:8080/",
          "height": 206
        },
        "id": "m58fIwALANZc",
        "outputId": "ff4424a4-45a9-42fd-c8cd-d9c6f68a423a"
      },
      "outputs": [],
      "source": [
        "# Changing number into alphabets\n",
        "limit=50\n",
        "df3=df.copy()\n",
        "# Use numpy's where function to replace values based on conditions\n",
        "df3['CarCount'] = np.where(df3['CarCount'] > limit, 'many', 'few')\n",
        "df3['BikeCount'] = np.where(df3['BikeCount'] > limit, 'many', 'few')\n",
        "df3['BusCount'] = np.where(df3['BusCount'] > limit, 'many', 'few')\n",
        "df3['TruckCount'] = np.where(df3['TruckCount'] > limit, 'many', 'few')"
      ]
    },
    {
      "cell_type": "code",
      "execution_count": 18,
      "metadata": {},
      "outputs": [
        {
          "data": {
            "text/html": [
              "<div>\n",
              "<style scoped>\n",
              "    .dataframe tbody tr th:only-of-type {\n",
              "        vertical-align: middle;\n",
              "    }\n",
              "\n",
              "    .dataframe tbody tr th {\n",
              "        vertical-align: top;\n",
              "    }\n",
              "\n",
              "    .dataframe thead th {\n",
              "        text-align: right;\n",
              "    }\n",
              "</style>\n",
              "<table border=\"1\" class=\"dataframe\">\n",
              "  <thead>\n",
              "    <tr style=\"text-align: right;\">\n",
              "      <th></th>\n",
              "      <th>Time</th>\n",
              "      <th>Date</th>\n",
              "      <th>Day of the week</th>\n",
              "      <th>CarCount</th>\n",
              "      <th>BikeCount</th>\n",
              "      <th>BusCount</th>\n",
              "      <th>TruckCount</th>\n",
              "      <th>Total</th>\n",
              "      <th>Traffic Situation</th>\n",
              "    </tr>\n",
              "  </thead>\n",
              "  <tbody>\n",
              "    <tr>\n",
              "      <th>0</th>\n",
              "      <td>2023-12-11 00:00:00</td>\n",
              "      <td>10</td>\n",
              "      <td>Tuesday</td>\n",
              "      <td>few</td>\n",
              "      <td>few</td>\n",
              "      <td>few</td>\n",
              "      <td>few</td>\n",
              "      <td>39</td>\n",
              "      <td>0</td>\n",
              "    </tr>\n",
              "    <tr>\n",
              "      <th>1</th>\n",
              "      <td>2023-12-11 00:15:00</td>\n",
              "      <td>10</td>\n",
              "      <td>Tuesday</td>\n",
              "      <td>few</td>\n",
              "      <td>few</td>\n",
              "      <td>few</td>\n",
              "      <td>few</td>\n",
              "      <td>55</td>\n",
              "      <td>0</td>\n",
              "    </tr>\n",
              "    <tr>\n",
              "      <th>2</th>\n",
              "      <td>2023-12-11 00:30:00</td>\n",
              "      <td>10</td>\n",
              "      <td>Tuesday</td>\n",
              "      <td>few</td>\n",
              "      <td>few</td>\n",
              "      <td>few</td>\n",
              "      <td>few</td>\n",
              "      <td>55</td>\n",
              "      <td>0</td>\n",
              "    </tr>\n",
              "    <tr>\n",
              "      <th>3</th>\n",
              "      <td>2023-12-11 00:45:00</td>\n",
              "      <td>10</td>\n",
              "      <td>Tuesday</td>\n",
              "      <td>many</td>\n",
              "      <td>few</td>\n",
              "      <td>few</td>\n",
              "      <td>few</td>\n",
              "      <td>58</td>\n",
              "      <td>0</td>\n",
              "    </tr>\n",
              "    <tr>\n",
              "      <th>4</th>\n",
              "      <td>2023-12-11 01:00:00</td>\n",
              "      <td>10</td>\n",
              "      <td>Tuesday</td>\n",
              "      <td>many</td>\n",
              "      <td>few</td>\n",
              "      <td>few</td>\n",
              "      <td>few</td>\n",
              "      <td>94</td>\n",
              "      <td>1</td>\n",
              "    </tr>\n",
              "  </tbody>\n",
              "</table>\n",
              "</div>"
            ],
            "text/plain": [
              "                 Time  Date Day of the week CarCount BikeCount BusCount  \\\n",
              "0 2023-12-11 00:00:00    10         Tuesday      few       few      few   \n",
              "1 2023-12-11 00:15:00    10         Tuesday      few       few      few   \n",
              "2 2023-12-11 00:30:00    10         Tuesday      few       few      few   \n",
              "3 2023-12-11 00:45:00    10         Tuesday     many       few      few   \n",
              "4 2023-12-11 01:00:00    10         Tuesday     many       few      few   \n",
              "\n",
              "  TruckCount  Total  Traffic Situation  \n",
              "0        few     39                  0  \n",
              "1        few     55                  0  \n",
              "2        few     55                  0  \n",
              "3        few     58                  0  \n",
              "4        few     94                  1  "
            ]
          },
          "execution_count": 18,
          "metadata": {},
          "output_type": "execute_result"
        }
      ],
      "source": [
        "# Glance at updated DataFrame\n",
        "df3.head()"
      ]
    },
    {
      "cell_type": "markdown",
      "metadata": {},
      "source": [
        "## Visualizing Data"
      ]
    },
    {
      "cell_type": "code",
      "execution_count": 19,
      "metadata": {
        "colab": {
          "base_uri": "https://localhost:8080/",
          "height": 675
        },
        "id": "-8q0laO5MswB",
        "outputId": "5f3e1f3c-d3be-498c-bd6c-a1375d48781d"
      },
      "outputs": [
        {
          "data": {
            "image/png": "[encoded data removed]",
            "text/plain": [
              "<Figure size 800x800 with 1 Axes>"
            ]
          },
          "metadata": {},
          "output_type": "display_data"
        }
      ],
      "source": [
        "#Visualizing Data\n",
        "Distribution_of_Vehicle = df[Columns].sum()\n",
        "plt.figure(figsize=(8, 8))\n",
        "plt.pie(Distribution_of_Vehicle, labels=['CarCount', 'BikeCount', 'BusCount','TruckCount'], autopct='%1.1f%%', colors=['gold', 'lightskyblue', 'lightcoral','red'])\n",
        "plt.title('Distribution of Vehicle')\n",
        "plt.show()"
      ]
    },
    {
      "cell_type": "code",
      "execution_count": 22,
      "metadata": {
        "colab": {
          "base_uri": "https://localhost:8080/",
          "height": 718
        },
        "id": "Psc8_nu9UF1o",
        "outputId": "d6ab3b03-37ee-4a8c-eee2-e297d4229db4"
      },
      "outputs": [
        {
          "data": {
            "image/png": "[encoded data removed]",
            "text/plain": [
              "<Figure size 1200x800 with 1 Axes>"
            ]
          },
          "metadata": {},
          "output_type": "display_data"
        }
      ],
      "source": [
        "# Scatter Plot of CarCount and BikeCount, at peak & low days (Friday & Wednesday)\n",
        "Day_of_Week=[\"CarCount\",\"BusCount\",\"TruckCount\"]\n",
        "plt.figure(figsize=(12, 8))\n",
        "plt.scatter(df[df['Day of the week'] == 'Friday']['CarCount'],\n",
        "             df[df['Day of the week'] == 'Friday']['BikeCount'],\n",
        "            label='Friday', alpha=0.5)\n",
        "plt.scatter(df[df['Day of the week'] == 'Wednesday']['CarCount'],\n",
        "           df[df['Day of the week'] == 'Wednesday']['BikeCount'],\n",
        "            label='Wednesday', alpha=0.5)\n",
        "plt.title('Scatter Plot of CarCount and BikeCount (Friday, Wednesday)')\n",
        "plt.xlabel('CarCount')\n",
        "plt.ylabel('BikeCount')\n",
        "plt.legend()\n",
        "plt.show()"
      ]
    },
    {
      "cell_type": "code",
      "execution_count": 21,
      "metadata": {},
      "outputs": [
        {
          "data": {
            "image/png": "[encoded data removed]",
            "text/plain": [
              "<Figure size 640x480 with 1 Axes>"
            ]
          },
          "metadata": {},
          "output_type": "display_data"
        }
      ],
      "source": [
        "# Plot to determine frequency of specific vehicles by days of the week\n",
        "\n",
        "# Grouping the DataFrame by days of the week\n",
        "Columns=['CarCount','BikeCount','BusCount','TruckCount']\n",
        "grouped_df = df.groupby('Day of the week')[Columns].sum()\n",
        "\n",
        "fig, ax = plt.subplots()    # For creating subplots\n",
        "x_positions = [0, 1, 2, 3, 4, 5, 6] # Defining total no of x_ticks\n",
        "bar_width = 0.2 # width of the bar\n",
        "\n",
        "# Total no of vehicles count days-wise, in form of an array\n",
        "Car_count=np.array(grouped_df['CarCount'])\n",
        "Bike_count=np.array(grouped_df['BikeCount'])\n",
        "Bus_count=np.array(grouped_df['BusCount'])\n",
        "Truck_count=np.array(grouped_df['TruckCount'])\n",
        "\n",
        "# Days in the order of vehicle counts, stored in above array\n",
        "days = ['Friday','Monday','Saturday','Sunday','Thursday','Tuesday','Wednesday']\n",
        "\n",
        "# Plotting bar for each vehicle\n",
        "ax.bar(x_positions, Car_count, width=bar_width, label='Car Count')\n",
        "ax.bar([x + bar_width for x in x_positions], Bike_count, width=bar_width, label='Bike Count')\n",
        "ax.bar([x + 2*bar_width for x in x_positions], Bus_count, width=bar_width, label='Bus Count')\n",
        "ax.bar([x + 3*bar_width for x in x_positions], Bus_count, width=bar_width, label='Truck Count')\n",
        "\n",
        "ax.set_xticks(x_positions)  # defining x_ticks\n",
        "ax.set_xticklabels(days)    # defining x_ticks labels\n",
        "plt.title('Frequency of Specific Vehicle')\n",
        "plt.xlabel('Days')\n",
        "plt.ylabel('Frequency')\n",
        "\n",
        "plt.legend()\n",
        "plt.show()"
      ]
    }
  ],
  "metadata": {
    "colab": {
      "include_colab_link": true,
      "provenance": []
    },
    "kernelspec": {
      "display_name": "Python 3 (ipykernel)",
      "language": "python",
      "name": "python3"
    },
    "language_info": {
      "codemirror_mode": {
        "name": "ipython",
        "version": 3
      },
      "file_extension": ".py",
      "mimetype": "text/x-python",
      "name": "python",
      "nbconvert_exporter": "python",
      "pygments_lexer": "ipython3",
      "version": "3.10.12"
    }
  },
  "nbformat": 4,
  "nbformat_minor": 0
}
